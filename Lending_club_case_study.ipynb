{
 "cells": [
  {
   "cell_type": "code",
   "execution_count": null,
   "id": "72d2468d-0498-4d0e-9a5f-250528f703a8",
   "metadata": {},
   "outputs": [],
   "source": [
    "#importing Libraries\n",
    "import numpy as np\n",
    "import pandas as pd\n",
    "import matplotlib.pyplot as plt\n",
    "import seaborn as sns"
   ]
  },
  {
   "cell_type": "code",
   "execution_count": null,
   "id": "bb2a3509-b87a-4589-8fc4-4394058503b7",
   "metadata": {},
   "outputs": [],
   "source": [
    "#load data in dataframe\n",
    "df = pd.read_excel(\"Data_Dictionary.xlsx\")"
   ]
  },
  {
   "cell_type": "code",
   "execution_count": null,
   "id": "387020cc-0f99-4a89-859e-51df931be560",
   "metadata": {},
   "outputs": [],
   "source": [
    "df.head()"
   ]
  },
  {
   "cell_type": "code",
   "execution_count": null,
   "id": "e4671d7e-7244-4916-89f3-3e2637f4e0ba",
   "metadata": {},
   "outputs": [],
   "source": [
    "loandf = pd.read_csv(\"loan.csv\")"
   ]
  },
  {
   "cell_type": "code",
   "execution_count": null,
   "id": "065a3de1-f660-4cb9-a76f-4bf443a4c674",
   "metadata": {},
   "outputs": [],
   "source": [
    "# Read the CSV file with low_memory set to False\n",
    "loandf = pd.read_csv(\"loan.csv\", low_memory=False)"
   ]
  },
  {
   "cell_type": "code",
   "execution_count": null,
   "id": "6fbf416b-3c2a-41e1-9417-53bcd35f5346",
   "metadata": {},
   "outputs": [],
   "source": [
    "loandf.shape"
   ]
  },
  {
   "cell_type": "code",
   "execution_count": null,
   "id": "c628914d-b26f-4284-8bc3-6fe34f53d36a",
   "metadata": {},
   "outputs": [],
   "source": [
    "loandf.head()"
   ]
  },
  {
   "cell_type": "markdown",
   "id": "c68e9814-416a-4b16-accf-6f46f3e16538",
   "metadata": {},
   "source": [
    "## Data Cleaning"
   ]
  },
  {
   "cell_type": "code",
   "execution_count": null,
   "id": "9d761db5-069a-4689-9c6e-e1af4112f4a4",
   "metadata": {},
   "outputs": [],
   "source": [
    "def get_nan_columns_sorted(df):\n",
    "    # Count NaN values for each column\n",
    "    nan_count = df.isnull().sum()\n",
    "    # Filter columns where NaN count is greater than 0\n",
    "    nan_columns_sorted = nan_count[nan_count > 0].sort_values(ascending=False)\n",
    "    return nan_columns_sorted"
   ]
  },
  {
   "cell_type": "code",
   "execution_count": null,
   "id": "fa8cac0f-d3e1-4583-b0d0-76a9ead330bd",
   "metadata": {},
   "outputs": [],
   "source": [
    "get_nan_columns_sorted(loandf)"
   ]
  },
  {
   "cell_type": "code",
   "execution_count": null,
   "id": "b3aae209-635f-4e57-a3af-9b86bc5da903",
   "metadata": {},
   "outputs": [],
   "source": [
    "pd.set_option('display.max_rows', None)"
   ]
  },
  {
   "cell_type": "code",
   "execution_count": null,
   "id": "1396e253-9289-4f7e-95dc-d844447a944d",
   "metadata": {},
   "outputs": [],
   "source": [
    "# Drop columns where all values are NaN\n",
    "loandf_cleaned = loandf.dropna(axis=1, how='all')"
   ]
  },
  {
   "cell_type": "code",
   "execution_count": null,
   "id": "2c7d1c47-3ff4-42e1-b290-d1cf8dbb59db",
   "metadata": {},
   "outputs": [],
   "source": [
    "loandf_cleaned.shape"
   ]
  },
  {
   "cell_type": "code",
   "execution_count": null,
   "id": "8fff3592-ebe2-425e-ba3f-b0e9990bf095",
   "metadata": {},
   "outputs": [],
   "source": [
    "# Get columns where the number of unique values is 1\n",
    "single_value_cols = loandf_cleaned.columns[loandf_cleaned.nunique() == 1].tolist()"
   ]
  },
  {
   "cell_type": "code",
   "execution_count": null,
   "id": "a33d20a2-1afd-4cce-9ee1-07c11269acb5",
   "metadata": {},
   "outputs": [],
   "source": [
    "single_value_cols"
   ]
  },
  {
   "cell_type": "code",
   "execution_count": null,
   "id": "1ef82476-aa4c-40dc-b1cb-71479c8bbee0",
   "metadata": {},
   "outputs": [],
   "source": [
    "# Drop these columns from the DataFrame as these will not contribute to analysis\n",
    "loandf_cleaned = loandf_cleaned.drop(columns=single_value_cols)"
   ]
  },
  {
   "cell_type": "code",
   "execution_count": null,
   "id": "7a02605c-61ae-47b1-95c4-95a9ff648a1a",
   "metadata": {},
   "outputs": [],
   "source": [
    "loandf_cleaned.shape"
   ]
  },
  {
   "cell_type": "code",
   "execution_count": null,
   "id": "be711ebc-4a1a-4564-9cb2-18499bc73e57",
   "metadata": {},
   "outputs": [],
   "source": [
    "get_nan_columns_sorted(loandf_cleaned).head(2)"
   ]
  },
  {
   "cell_type": "code",
   "execution_count": null,
   "id": "6cb1099f-85e9-40bf-b98a-58533390916e",
   "metadata": {},
   "outputs": [],
   "source": [
    "loandf_cleaned[[\"next_pymnt_d\",\"loan_status\"]].head()"
   ]
  },
  {
   "cell_type": "code",
   "execution_count": null,
   "id": "d80a1342-c8c9-4fb5-b43a-7858820ef90f",
   "metadata": {
    "scrolled": true
   },
   "outputs": [],
   "source": [
    "# Leaving NaN as is for next_paymnt_d as it actually means \"No Payment due\", cocedering the loan_status column\n",
    "# Find rows where next_pymnt_d is NaN and loan_status is 'Current'\n",
    "missing_next_pymnt_rows = loandf_cleaned[(loandf_cleaned['next_pymnt_d'].isnull()) & (loandf_cleaned['loan_status'] == 'Current')]\n",
    "missing_next_pymnt_rows.shape"
   ]
  },
  {
   "cell_type": "code",
   "execution_count": null,
   "id": "f442cbdd-fd28-4630-bae9-ec8f05652a41",
   "metadata": {},
   "outputs": [],
   "source": [
    "# Find rows where next_pymnt_d is not NaN and loan_status is not 'Current'\n",
    "non_current_with_payment_due = loandf_cleaned[(loandf_cleaned['next_pymnt_d'].notnull()) & (loandf_cleaned['loan_status'] != 'Current')]\n",
    "non_current_with_payment_due.shape"
   ]
  },
  {
   "cell_type": "code",
   "execution_count": null,
   "id": "26bc2149-8548-4068-aff4-576bf29c8b81",
   "metadata": {},
   "outputs": [],
   "source": [
    "# It is clear that next_pymnt_d is realted to loan_status. \n",
    "# Data value is only for loan_status = Current\n",
    "# Hence it is safe to drop the column as the information is there in loan status column\n",
    "loandf_cleaned = loandf_cleaned.drop(columns=[\"next_pymnt_d\"])"
   ]
  },
  {
   "cell_type": "code",
   "execution_count": null,
   "id": "766c660b-80ff-474a-ab10-88a4f4ea3d6b",
   "metadata": {},
   "outputs": [],
   "source": [
    "get_nan_columns_sorted(loandf_cleaned).head(2)"
   ]
  },
  {
   "cell_type": "code",
   "execution_count": null,
   "id": "274fb81e-c53d-4eb3-a815-af2ea71c6385",
   "metadata": {},
   "outputs": [],
   "source": [
    "#handling mths_since_last_record fiield\n",
    "loandf_cleaned[[\"mths_since_last_record\",\"loan_status\"]].head()"
   ]
  },
  {
   "cell_type": "code",
   "execution_count": null,
   "id": "3fa0c28d-027b-457c-8247-0963b9ff1d4f",
   "metadata": {},
   "outputs": [],
   "source": [
    "# view full test in dis=ctionary\n",
    "pd.set_option('display.max_colwidth', None)"
   ]
  },
  {
   "cell_type": "code",
   "execution_count": null,
   "id": "f7d2b5ae-a7cc-4082-8ea3-bd66bd75a81d",
   "metadata": {},
   "outputs": [],
   "source": [
    "loandf_cleaned.mths_since_last_record.value_counts()"
   ]
  },
  {
   "cell_type": "code",
   "execution_count": null,
   "id": "a0c3cd5b-756b-4635-8481-e51a7881c28c",
   "metadata": {},
   "outputs": [],
   "source": [
    "# Create a new column 'has_public_record' where 'mths_since_last_record' is NaN => 'No', else 'Yes'\n",
    "loandf_cleaned.loc[:, 'has_public_record'] = np.where(loandf_cleaned['mths_since_last_record'].isnull(), 'No', 'Yes')"
   ]
  },
  {
   "cell_type": "code",
   "execution_count": null,
   "id": "1fdec505-b4f6-4c7d-a87c-875955d35fd5",
   "metadata": {},
   "outputs": [],
   "source": [
    "loandf_cleaned.has_public_record.value_counts()"
   ]
  },
  {
   "cell_type": "code",
   "execution_count": null,
   "id": "7f3da4ee-88c9-49d5-a598-7f9a6cff02f9",
   "metadata": {},
   "outputs": [],
   "source": [
    "# Dropping the mths_since_last_record column\n",
    "loandf_cleaned = loandf_cleaned.drop(columns=[\"mths_since_last_record\"])"
   ]
  },
  {
   "cell_type": "code",
   "execution_count": null,
   "id": "8ed5f37b-6336-41f0-91a3-95cca8b50fef",
   "metadata": {},
   "outputs": [],
   "source": [
    "#handling mths_since_last_delinq column\n",
    "# mths_since_last_delinq has 64.6% null values. But NaN value maeans the accounts have never been delinquent\n",
    "# Create a new column has_delinquency with Yes and No values\n",
    "loandf_cleaned.loc[:,'has_delinquency'] = np.where(loandf_cleaned['mths_since_last_delinq'].isnull(), 'No', 'Yes')"
   ]
  },
  {
   "cell_type": "code",
   "execution_count": null,
   "id": "7ea34bc8-8b0b-4429-8d27-c817e2b59b4f",
   "metadata": {},
   "outputs": [],
   "source": [
    "loandf_cleaned.has_delinquency.value_counts()"
   ]
  },
  {
   "cell_type": "code",
   "execution_count": null,
   "id": "7bc2d8d5-b76a-4236-837e-05fd70194813",
   "metadata": {},
   "outputs": [],
   "source": [
    "# Dropping the mths_since_last_record column\n",
    "loandf_cleaned = loandf_cleaned.drop(columns=[\"mths_since_last_delinq\"])"
   ]
  },
  {
   "cell_type": "code",
   "execution_count": null,
   "id": "77ce2b5d-4c67-469d-9d61-f755578f5ba0",
   "metadata": {},
   "outputs": [],
   "source": [
    "loandf_cleaned.desc.head()"
   ]
  },
  {
   "cell_type": "code",
   "execution_count": null,
   "id": "4f769871-5985-45a0-8ef1-b2750184eadb",
   "metadata": {},
   "outputs": [],
   "source": [
    "#handling desc column. It is difficult to make any sense of text at this point.\n",
    "#create a new column has_desc\n",
    "loandf_cleaned.loc[:,'has_desc'] = np.where(loandf_cleaned['desc'].isnull(), 'No', 'Yes')"
   ]
  },
  {
   "cell_type": "code",
   "execution_count": null,
   "id": "bdfceef1-ae9f-4713-a68f-3ebd061f5cb9",
   "metadata": {},
   "outputs": [],
   "source": [
    "loandf_cleaned.has_desc.value_counts()"
   ]
  },
  {
   "cell_type": "code",
   "execution_count": null,
   "id": "56424eca-75dd-4686-b67e-55dff93c7a3c",
   "metadata": {},
   "outputs": [],
   "source": [
    "#dropping desc column\n",
    "loandf_cleaned = loandf_cleaned.drop(columns=['desc'])"
   ]
  },
  {
   "cell_type": "code",
   "execution_count": null,
   "id": "486e0518-9c67-4a4e-bf0f-3f265cb5a5fe",
   "metadata": {},
   "outputs": [],
   "source": [
    "loandf_cleaned.emp_title.head()"
   ]
  },
  {
   "cell_type": "code",
   "execution_count": null,
   "id": "f05897ab-5e46-4684-af35-98dead29ec72",
   "metadata": {},
   "outputs": [],
   "source": [
    "# handling emp_title column\n",
    "# about 6% is null. This can be either rhe borrower was unemployed or simply did not provide details\n",
    "# Setting the null values with \"Unknown\"\n",
    "loandf_cleaned.loc[:,'emp_title'] = loandf_cleaned['emp_title'].fillna('Unknown')"
   ]
  },
  {
   "cell_type": "code",
   "execution_count": null,
   "id": "f4cc2a86-d70e-4ce7-8dee-b1694bf425c7",
   "metadata": {},
   "outputs": [],
   "source": [
    "loandf_cleaned.emp_title.value_counts()"
   ]
  },
  {
   "cell_type": "code",
   "execution_count": null,
   "id": "07f8cc25-dce2-402e-9d58-a386d1dff705",
   "metadata": {},
   "outputs": [],
   "source": [
    "loandf_cleaned.emp_length.value_counts()"
   ]
  },
  {
   "cell_type": "code",
   "execution_count": null,
   "id": "affb39ed-ec6d-4a45-a055-fef26c12e1ae",
   "metadata": {},
   "outputs": [],
   "source": [
    "#handle emp_length\n",
    "# this indicates job stability. Missing values may indicate borrower being unemployed or simple not provided.\n",
    "# hence replacing nulls with Unknown seems a good approach\n",
    "loandf_cleaned.loc[:,'emp_length'] = loandf_cleaned['emp_length'].fillna('Unknown')"
   ]
  },
  {
   "cell_type": "code",
   "execution_count": null,
   "id": "0949f27c-39c0-4515-b2cf-b39d7e760dac",
   "metadata": {},
   "outputs": [],
   "source": [
    "loandf_cleaned.emp_length.value_counts()"
   ]
  },
  {
   "cell_type": "code",
   "execution_count": null,
   "id": "e9109935-74bc-47de-aac6-c90e3863641d",
   "metadata": {},
   "outputs": [],
   "source": [
    "loandf_cleaned.pub_rec_bankruptcies.value_counts()"
   ]
  },
  {
   "cell_type": "code",
   "execution_count": null,
   "id": "a040456d-33b7-4afb-a045-2540774a558b",
   "metadata": {},
   "outputs": [],
   "source": [
    "# Handling pub_rec_bankruptcies\n",
    "# This column has 1.75 missing values\n",
    "# It is very likely that missing values is because the borrowers have no bankrupcies as any bankrupcies is likely to be discovered by loan provider\n",
    "# Hence fillling with 0.0 (which is also median) seems a reasonable approach here\n",
    "loandf_cleaned.loc[:, 'pub_rec_bankruptcies'] = loandf_cleaned['pub_rec_bankruptcies'].fillna(0.0)"
   ]
  },
  {
   "cell_type": "code",
   "execution_count": null,
   "id": "1e997876-0808-4ab2-9542-4d5586164cbf",
   "metadata": {},
   "outputs": [],
   "source": [
    "loandf_cleaned.pub_rec_bankruptcies.value_counts()"
   ]
  },
  {
   "cell_type": "code",
   "execution_count": null,
   "id": "bce0354d-3dbf-41e3-84ba-05d0c49e417b",
   "metadata": {},
   "outputs": [],
   "source": [
    "# Handling last_pymnt_d\n",
    "# Relative small .18% is missing\n",
    "# No clear reason can be attributed\n",
    "# In order to avoid any bias, dropping the rows seems reasonable\n",
    "loandf_cleaned = loandf_cleaned.dropna(subset=['last_pymnt_d'])"
   ]
  },
  {
   "cell_type": "code",
   "execution_count": null,
   "id": "676c213c-de4f-420a-825a-22a7d62b0f56",
   "metadata": {},
   "outputs": [],
   "source": [
    "loandf_cleaned.shape"
   ]
  },
  {
   "cell_type": "code",
   "execution_count": null,
   "id": "79880c16-30b7-41e6-adcf-5eea9edbff69",
   "metadata": {},
   "outputs": [],
   "source": [
    "loandf_cleaned.revol_util.value_counts()"
   ]
  },
  {
   "cell_type": "code",
   "execution_count": null,
   "id": "5f6fda85-cef3-4e64-8ccd-dc8247aa9c3a",
   "metadata": {},
   "outputs": [],
   "source": [
    "# Handling revol_util\n",
    "# Relativelly low .13 % null values\n",
    "# As there is not clear memaning of null values, it seems best to drop the rows with null values\n",
    "loandf_cleaned = loandf_cleaned.dropna(subset=['revol_util'])"
   ]
  },
  {
   "cell_type": "code",
   "execution_count": null,
   "id": "ce3b345d-5681-4d49-9eb3-c34c90e7a086",
   "metadata": {},
   "outputs": [],
   "source": [
    "# Remove '%' and convert 'revol_util' to float\n",
    "loandf_cleaned.loc[:, 'revol_util'] = loandf_cleaned['revol_util'].str.rstrip('%').astype('float') / 100"
   ]
  },
  {
   "cell_type": "code",
   "execution_count": null,
   "id": "98878c46-860f-43b9-a87a-66a10b4287e4",
   "metadata": {},
   "outputs": [],
   "source": [
    "loandf_cleaned.shape"
   ]
  },
  {
   "cell_type": "code",
   "execution_count": null,
   "id": "e0b8ba3d-ba78-4ac3-97b2-f7bcbbbae3e7",
   "metadata": {},
   "outputs": [],
   "source": [
    "get_nan_columns_sorted(loandf_cleaned).head(2)"
   ]
  },
  {
   "cell_type": "code",
   "execution_count": null,
   "id": "3f9e2a0b-a391-45bc-8c95-ded02aee19be",
   "metadata": {},
   "outputs": [],
   "source": [
    "# Handling title\n",
    "# title has only 11 null values\n",
    "# Introducing a new category \"Unknown\" seeps appropriate\n",
    "loandf_cleaned.loc[:, 'title'] = loandf_cleaned['title'].fillna('Unknown')"
   ]
  },
  {
   "cell_type": "code",
   "execution_count": null,
   "id": "c6a67eb0-bf5a-4428-a289-461de295fb58",
   "metadata": {},
   "outputs": [],
   "source": [
    "# Handling last_credit_pull_d\n",
    "# Since there are only 2 null values, it is safe to drop there rows without any impact on EDA\n",
    "loandf_cleaned = loandf_cleaned.dropna(subset=['last_credit_pull_d'])"
   ]
  },
  {
   "cell_type": "code",
   "execution_count": null,
   "id": "a129624f-ca3b-466d-be2c-53c928dd78f8",
   "metadata": {},
   "outputs": [],
   "source": [
    "loandf_cleaned.shape"
   ]
  },
  {
   "cell_type": "code",
   "execution_count": null,
   "id": "b2ef177d-8152-4cec-b882-4052015946c9",
   "metadata": {},
   "outputs": [],
   "source": [
    "get_nan_columns_sorted(loandf_cleaned).head(2)"
   ]
  },
  {
   "cell_type": "code",
   "execution_count": null,
   "id": "3dd198da-e571-457d-9508-816fbae7d034",
   "metadata": {},
   "outputs": [],
   "source": [
    "# url = https://lendingclub.com/browse/loanDetail.action?loan_id=1077501 is also does not seem to have any contribution to EDA\n",
    "loandf_cleaned = loandf_cleaned.drop(columns=[\"url\"])"
   ]
  },
  {
   "cell_type": "code",
   "execution_count": null,
   "id": "f0ef1d07-c91e-403b-812c-a840236bef6d",
   "metadata": {},
   "outputs": [],
   "source": [
    "loandf_cleaned.shape"
   ]
  },
  {
   "cell_type": "code",
   "execution_count": null,
   "id": "48d16f46-5cdf-464a-a3ee-5100d7fa7ba7",
   "metadata": {},
   "outputs": [],
   "source": [
    "#dropping id and member_id colums as there will not be analysed\n",
    "loandf_cleaned = loandf_cleaned.drop(columns=[\"id\", \"member_id\"])"
   ]
  },
  {
   "cell_type": "code",
   "execution_count": null,
   "id": "86463e3c-022c-4c80-b6a0-cf67bb8b08a1",
   "metadata": {},
   "outputs": [],
   "source": [
    "loandf_cleaned.shape"
   ]
  },
  {
   "cell_type": "code",
   "execution_count": null,
   "id": "eca2cdc0-bb55-438c-b589-27907202e426",
   "metadata": {},
   "outputs": [],
   "source": [
    "num_cols = []\n",
    "cat_cols = []\n",
    "extra_cols = []\n",
    "\n",
    "# Loop through each column and classify based on unique values\n",
    "for col in loandf_cleaned.columns:\n",
    "    unique_values = loandf_cleaned[col].nunique()  # Get number of unique values in the column\n",
    "    \n",
    "    if unique_values > 20:\n",
    "        num_cols.append(col)  # If more than 20 unique values, treat as numeric\n",
    "    else:\n",
    "        cat_cols.append(col)  # If 20 or fewer unique values, treat as categorical"
   ]
  },
  {
   "cell_type": "code",
   "execution_count": null,
   "id": "434eddae-b339-4862-8a08-da9e04bfb394",
   "metadata": {},
   "outputs": [],
   "source": [
    "print(num_cols, \"----\" ,cat_cols)"
   ]
  },
  {
   "cell_type": "code",
   "execution_count": null,
   "id": "5f3e61cb-110f-4e8a-a5e9-785cbf9367ec",
   "metadata": {},
   "outputs": [],
   "source": [
    "# sub_grade is categorical column\n",
    "cat_cols_observed = [\"sub_grade\",\"emp_title\", \"title\", \"addr_state\", \"earliest_cr_line\", \"last_pymnt_d\", \"last_credit_pull_d\",\"issue_d\",\"zip_code\"];\n",
    "num_cols_observed = []\n",
    "# Remove columns from num_cols that are present in cat_cols_observed\n",
    "num_cols = [col for col in num_cols if col not in cat_cols_observed]\n",
    "# Append the columns from cat_cols_observed to cat_cols\n",
    "cat_cols = cat_cols + cat_cols_observed"
   ]
  },
  {
   "cell_type": "code",
   "execution_count": null,
   "id": "7c684393-3773-4df6-885d-e87108d39713",
   "metadata": {},
   "outputs": [],
   "source": [
    "print(loandf_cleaned.shape, len(num_cols + cat_cols))"
   ]
  },
  {
   "cell_type": "code",
   "execution_count": null,
   "id": "81c3f60e-e089-471d-b730-e0346951c511",
   "metadata": {},
   "outputs": [],
   "source": [
    "loandf_cleaned.iloc[:,0:10].head()"
   ]
  },
  {
   "cell_type": "code",
   "execution_count": null,
   "id": "b3c8fb82-91c0-4005-a2b3-7886819abe80",
   "metadata": {},
   "outputs": [],
   "source": [
    "#Observe the remaining columns and take necessary action"
   ]
  },
  {
   "cell_type": "code",
   "execution_count": null,
   "id": "a9991d2f-618f-453a-b496-9f6413b4b5dc",
   "metadata": {},
   "outputs": [],
   "source": [
    "# Clean the 'int_rate' column\n",
    "loandf_cleaned.loc[:, 'int_rate'] = loandf_cleaned['int_rate'].str.rstrip('%').astype('float') / 100"
   ]
  },
  {
   "cell_type": "code",
   "execution_count": null,
   "id": "a3062fbc-750e-4d9e-bb9b-d37bec3a72ad",
   "metadata": {},
   "outputs": [],
   "source": [
    "loandf_cleaned.iloc[:,40:50].head()"
   ]
  },
  {
   "cell_type": "markdown",
   "id": "fcffd538-fe19-4e6d-80c9-97320e70dc5f",
   "metadata": {},
   "source": [
    "## Univariate Analysis"
   ]
  },
  {
   "cell_type": "code",
   "execution_count": null,
   "id": "0ab416d2-7ea6-4a0d-82e4-9d63f331625b",
   "metadata": {
    "scrolled": true
   },
   "outputs": [],
   "source": [
    "for col in num_cols:\n",
    "        # Create a figure with 2 subplots (1 row, 2 columns)\n",
    "    fig, axes = plt.subplots(nrows=1, ncols=2, figsize=(12, 5))\n",
    "\n",
    "    # Plot histogram on the first subplot\n",
    "    sns.histplot(x=loandf_cleaned[col], ax=axes[0])\n",
    "    axes[0].set_title(f'Histogram of {col}')\n",
    "\n",
    "    # Plot boxplot on the second subplot\n",
    "    sns.boxplot(y=loandf_cleaned[col], ax=axes[1])\n",
    "    axes[1].set_title(f'Boxplot of {col}')\n",
    "\n",
    "    # Show the combined plots\n",
    "    plt.tight_layout()  # Adjusts the spacing between plots\n",
    "    plt.show()"
   ]
  },
  {
   "cell_type": "markdown",
   "id": "1f12ab47-e2cc-4215-a03b-0995e1152cf6",
   "metadata": {},
   "source": [
    "#### loan_amt: \n",
    "##### plot is right skewed, also there are outliars on the highr side: This means most of the loans are of lower value. \n",
    "##### However there are few very high value loans. This certainly indicates increased risk\n"
   ]
  },
  {
   "cell_type": "markdown",
   "id": "50c8f92b-6bd4-492a-968d-e40026611c27",
   "metadata": {},
   "source": [
    "#### funded_amnt, funded_amnt_inv\n",
    "##### This has similar distribution to loan_amnt"
   ]
  },
  {
   "cell_type": "markdown",
   "id": "01dea0d1-aa9f-4b65-9d0c-f157b2c57eba",
   "metadata": {},
   "source": [
    "#### int_rate, installment, open_acct\n",
    "##### is also right skewed and outliars on top."
   ]
  },
  {
   "cell_type": "markdown",
   "id": "18c158d2-faa3-4a8e-acb6-2086de7fed55",
   "metadata": {},
   "source": [
    "#### annual_income - **"
   ]
  },
  {
   "cell_type": "markdown",
   "id": "1b8fcbba-3157-48f9-99bc-e759b252333e",
   "metadata": {},
   "source": [
    "#### dti:\n",
    "##### Has normal distribution with no outliars"
   ]
  },
  {
   "cell_type": "markdown",
   "id": "683247e5-40ee-4067-bd9c-3cbc18930194",
   "metadata": {},
   "source": [
    "#### revol_bal\n",
    "##### Is right skewed and has outliars on the top"
   ]
  },
  {
   "cell_type": "markdown",
   "id": "0a4b4874-45eb-49f4-a2ec-7bed467f1db2",
   "metadata": {},
   "source": []
  },
  {
   "cell_type": "markdown",
   "id": "f9d7f54b-9335-4767-8954-07f92b72b842",
   "metadata": {},
   "source": [
    "### Segment Univariate Analysis"
   ]
  },
  {
   "cell_type": "code",
   "execution_count": null,
   "id": "8b156d35-98e0-4be8-a567-a653859c47ac",
   "metadata": {},
   "outputs": [],
   "source": [
    "for col in num_cols:\n",
    "    plt.figure(figsize=(12, 5))\n",
    "    sns.boxplot(x='loan_status', y=loandf_cleaned[col], data=loandf_cleaned)\n",
    "    plt.title(f'{col} by Loan Status')\n",
    "    plt.xticks(rotation=45)\n",
    "    plt.show()"
   ]
  },
  {
   "cell_type": "markdown",
   "id": "bb9bc85f-29d6-4aee-ae3d-cf00b58ba9ca",
   "metadata": {},
   "source": [
    "##### 1. loan_amnt, funded_amnt, funded_amnt_inv median and quratiles are slightly higher. The loans with current is more higher. This suggests there is a risk of defaults to increate.\n",
    "##### 2.  Int_rate is also higher for defaults. Lokking at the box plot of current loans, seems the current loans are are at risk"
   ]
  },
  {
   "cell_type": "code",
   "execution_count": null,
   "id": "1d8cedbd-0456-48e4-a026-ab1b9ff259f9",
   "metadata": {},
   "outputs": [],
   "source": [
    "# Derived metrics\n",
    "#Debt-to-Loan Ratio: dti / loan_amnt.\n",
    "loandf_cleaned[\"debt_to_loan_ratio\"] = loandf_cleaned[\"dti\"] / loandf_cleaned[\"loan_amnt\"]\n",
    "#Utilization Ratio: revol_bal / total_acc for revolving credit.\n",
    "loandf_cleaned[\"utilization_ratio\"] = loandf_cleaned[\"revol_bal\"] / loandf_cleaned[\"total_acc\"]\n",
    "#Income-to-Loan Ratio: annual_inc / loan_amnt.\n",
    "loandf_cleaned[\"income-to-loan_ratio\"] = loandf_cleaned[\"annual_inc\"] / loandf_cleaned[\"loan_amnt\"]\n",
    "\n",
    "derived_cols = [\"debt_to_loan_ratio\", \"utilization_ratio\", \"income-to-loan_ratio\"]"
   ]
  },
  {
   "cell_type": "code",
   "execution_count": null,
   "id": "dbe47ddf-da92-49aa-8a6e-4871e5a7dfca",
   "metadata": {},
   "outputs": [],
   "source": [
    "for col in derived_cols:\n",
    "    plt.figure(figsize=(12, 5))\n",
    "    sns.boxplot(x='loan_status', y=loandf_cleaned[col], data=loandf_cleaned)\n",
    "    plt.title(f'{col} by Loan Status')\n",
    "    plt.xticks(rotation=45)\n",
    "    plt.show()"
   ]
  },
  {
   "cell_type": "code",
   "execution_count": null,
   "id": "c1a3cfa6-d515-4b8d-9a69-02805ad393e0",
   "metadata": {},
   "outputs": [],
   "source": [
    "df"
   ]
  },
  {
   "cell_type": "code",
   "execution_count": null,
   "id": "0b366f75-c24c-4d48-920f-88b0f10000fb",
   "metadata": {},
   "outputs": [],
   "source": [
    "for col in cat_cols:\n",
    "    sns.countplot(x=loandf_cleaned[col])\n",
    "    plt.xticks(rotation=75)\n",
    "    plt.show()"
   ]
  },
  {
   "cell_type": "markdown",
   "id": "d9438a95-6673-43a1-87de-ab4f03c1cce0",
   "metadata": {},
   "source": [
    "### Univariate Analysis observtions and Corrective actions"
   ]
  },
  {
   "cell_type": "code",
   "execution_count": null,
   "id": "e908b8fb-5cb3-4162-ac06-0846750d9a69",
   "metadata": {},
   "outputs": [],
   "source": []
  },
  {
   "cell_type": "markdown",
   "id": "99c2779b-b856-4b43-9970-57cc5dc43901",
   "metadata": {},
   "source": [
    "## Bivariate Analysis"
   ]
  },
  {
   "cell_type": "code",
   "execution_count": null,
   "id": "693d96da-a504-4d39-84df-21d85e474c1a",
   "metadata": {},
   "outputs": [],
   "source": [
    "corr = loandf_cleaned[num_cols + derived_cols].corr()\n",
    "plt.figure(figsize=(12, 8))\n",
    "sns.heatmap(corr, annot=True, cmap='coolwarm')\n",
    "plt.title('Correlation Heatmap of Numerical Features')\n",
    "plt.show()\n",
    "            \n",
    "    "
   ]
  },
  {
   "cell_type": "code",
   "execution_count": null,
   "id": "ccc5f354-f650-49d0-b930-75b8a88d7d3e",
   "metadata": {},
   "outputs": [],
   "source": [
    "for col in cat_cols:\n",
    "    pd.crosstab(loandf_cleaned[col], loandf_cleaned['loan_status'], normalize='index').plot(kind='bar', stacked=True)\n",
    "    plt.title('Loan Status Distribution by ' + col)\n",
    "    plt.show()"
   ]
  },
  {
   "cell_type": "code",
   "execution_count": null,
   "id": "e37c2475-6312-46c9-9650-3a778f0ef3c6",
   "metadata": {},
   "outputs": [],
   "source": []
  },
  {
   "cell_type": "code",
   "execution_count": null,
   "id": "b454c20e-7141-49ad-b12a-be789eec62c6",
   "metadata": {},
   "outputs": [],
   "source": []
  }
 ],
 "metadata": {
  "kernelspec": {
   "display_name": "Python 3 (ipykernel)",
   "language": "python",
   "name": "python3"
  },
  "language_info": {
   "codemirror_mode": {
    "name": "ipython",
    "version": 3
   },
   "file_extension": ".py",
   "mimetype": "text/x-python",
   "name": "python",
   "nbconvert_exporter": "python",
   "pygments_lexer": "ipython3",
   "version": "3.12.4"
  }
 },
 "nbformat": 4,
 "nbformat_minor": 5
}
